{
  "nbformat": 4,
  "nbformat_minor": 0,
  "metadata": {
    "colab": {
      "provenance": [],
      "collapsed_sections": [
        "Objg9WJtV1-v",
        "cyN2-LEDcsOg"
      ],
      "machine_shape": "hm"
    },
    "kernelspec": {
      "name": "python3",
      "display_name": "Python 3"
    },
    "language_info": {
      "name": "python"
    }
  },
  "cells": [
    {
      "cell_type": "code",
      "metadata": {
        "id": "zZRKKbPUif6m"
      },
      "source": [
        "#@title Preparar notebook. { display-mode: \"form\" }\n",
        "\n",
        "!pip install tmdbsimple\n",
        "\n",
        "import concurrent.futures\n",
        "import pandas as pd\n",
        "from google.colab import drive\n",
        "from datetime import datetime\n",
        "import math\n",
        "import threading\n",
        "import time\n",
        "import socket\n",
        "import requests\n",
        "import gzip\n",
        "import json\n",
        "import tmdbsimple as tmdb\n",
        "import os\n",
        "import numpy as np\n",
        "import pickle\n",
        "socket.setdefaulttimeout(15)\n",
        "\n",
        "drive.mount('/content/drive')\n",
        "\n",
        "#@markdown Inserte su api_key de TMDB y la ruta donde se guardará el dataset:\n",
        "api_key =  '579dfb6c11b73263d6ce7e1f0844e60d' #@param {type: 'string'}\n",
        "path = '/content/drive/Shareddrives/TFG_2021/Datos/Datasets/' #@param {type: 'string'}"
      ],
      "execution_count": null,
      "outputs": []
    },
    {
      "cell_type": "code",
      "source": [
        "#@title Obtener ids actualizados de TMDB { display-mode: \"form\" }\n",
        "url = 'https://files.tmdb.org/p/exports/movie_ids_' + datetime.now().strftime(\"%m_%d_%Y\") + '.json.gz'\n",
        "filename = url.split(\"/\")[-1]\n",
        "with open(filename, \"wb\") as f:\n",
        "    r = requests.get(url)\n",
        "    f.write(r.content)\n",
        "\n",
        "with gzip.open(filename, 'rb') as f:\n",
        "    file_content = f.read()\n",
        "\n",
        "df_ids = pd.read_json(file_content, lines=True)"
      ],
      "metadata": {
        "id": "BFJ_YTnf6DT0"
      },
      "execution_count": null,
      "outputs": []
    },
    {
      "cell_type": "code",
      "source": [
        "#@title Multi-processing. { display-mode: \"form\" }\n",
        "\n",
        "#@markdown Parámetros:\n",
        "pos_ini =  0#@param {type:\"integer\"}\n",
        "pos_fin =  10#@param {type:\"integer\"}\n",
        "MAX_THREADS =  15#@param {type:\"integer\"}\n",
        "all_df = False #@param {type:\"boolean\"}\n",
        "\n",
        "if all_df:\n",
        "  pos_ini = 0\n",
        "  pos_fin = len(df_ids)\n",
        "elif pos_ini < 0 or pos_ini > len(df_ids) or pos_ini > pos_fin or pos_fin > len(df_ids):\n",
        "  print(\"Error en pos_ini y pos_fin.\")\n",
        "\n",
        "if MAX_THREADS < 1: \n",
        "  print(\"Error en MAX_THREADS.\")\n",
        "\n",
        "def download_url(url):\n",
        "  resp_en = requests.get(\"https://api.themoviedb.org/3/movie/\" + str(url) + \"?api_key=\" + api_key + \"&append_to_response=credits&language=en-US\")\n",
        "  resp_es = requests.get(\"https://api.themoviedb.org/3/movie/\" + str(url) + \"?api_key=\" + api_key + \"&language=en-US&language=es-ES\").json()\n",
        "\n",
        "  respdict = resp_en.json()\n",
        "  respdict['credits'] = [x['name'] for x in respdict['credits']['cast'] if x['known_for_department'] == 'Acting']\n",
        "  respdict['genres'] = [x['name'] for x in respdict['genres']]\n",
        "  respdict['title_es'] = resp_es['title']\n",
        "  respdict['overview_es'] = resp_es['overview']\n",
        "  \n",
        "  resp_en._content = json.dumps(respdict).encode()\n",
        "  fh.write(resp_en.content + b'\\n')\n",
        "\n",
        "  story_urls = list(df_ids['id']) if all_df else list(df_ids['id'][pos_ini:pos_fin])\n",
        "threads = min(MAX_THREADS, len(story_urls))\n",
        "if os.path.exists(path + 'df_peliculas.json'):\n",
        "  os.remove(path + 'df_peliculas.json')\n",
        "\n",
        "with open(path + 'df_peliculas.json', \"wb\") as fh:\n",
        "  with concurrent.futures.ThreadPoolExecutor(max_workers=threads) as executor:\n",
        "    executor.map(download_url, story_urls)\n",
        "\n",
        "df_peliculas = pd.read_json(path + 'df_peliculas.json', lines=True)\n",
        "\n",
        "df_peliculas.rename(columns={'credits': 'actors'}, inplace=True)\n",
        "df_peliculas.drop(['adult', 'backdrop_path', 'belongs_to_collection', 'budget', 'homepage', 'imdb_id', 'original_language', 'popularity', 'production_companies',\n",
        "               'production_countries', 'revenue', 'spoken_languages', 'status', 'tagline', 'video', 'vote_average', 'vote_count', 'title'], axis=1, inplace=True)\n",
        "\n",
        "df_peliculas.to_pickle(path + 'TMDB - ' + datetime.now().strftime(\"%d-%m-%Y - %H:%M:%S\") + '.pkl', protocol=pickle.HIGHEST_PROTOCOL)"
      ],
      "metadata": {
        "id": "bE_iPwmpDdmM"
      },
      "execution_count": null,
      "outputs": []
    }
  ]
}